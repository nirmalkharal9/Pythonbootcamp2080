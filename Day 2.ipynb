{
 "cells": [
  {
   "cell_type": "code",
   "execution_count": 1,
   "id": "23677645-a562-42c1-a844-80d81e9c31dd",
   "metadata": {},
   "outputs": [
    {
     "name": "stdout",
     "output_type": "stream",
     "text": [
      "7\n"
     ]
    }
   ],
   "source": [
    "import random\n",
    "print(random.randrange(1,10))"
   ]
  },
  {
   "cell_type": "code",
   "execution_count": 2,
   "id": "c1d51c57-74af-4479-8179-47e0f40a0857",
   "metadata": {},
   "outputs": [
    {
     "name": "stdout",
     "output_type": "stream",
     "text": [
      "company"
     ]
    }
   ],
   "source": [
    "kharal = \"company\"\n",
    "for nirmal in kharal:\n",
    "    print(nirmal, end=\"\")"
   ]
  },
  {
   "cell_type": "code",
   "execution_count": 3,
   "id": "99971a8a-2878-4d2e-a64c-1a6033c7faa9",
   "metadata": {},
   "outputs": [
    {
     "name": "stdout",
     "output_type": "stream",
     "text": [
      "0\n",
      "N\n",
      "1\n",
      "i\n",
      "2\n",
      "r\n",
      "3\n",
      "m\n",
      "4\n",
      "a\n",
      "5\n",
      "l\n",
      "6\n",
      " \n",
      "7\n",
      "K\n",
      "8\n",
      "h\n",
      "9\n",
      "a\n",
      "10\n",
      "r\n",
      "11\n",
      "a\n",
      "12\n",
      "l\n",
      "<class 'str'>\n"
     ]
    }
   ],
   "source": [
    "i = 'Nirmal Kharal'\n",
    "j=0\n",
    "for num in i:\n",
    "    print(j)\n",
    "    print(num)\n",
    "    j+=1\n",
    "print(type(i))\n",
    "    "
   ]
  },
  {
   "cell_type": "code",
   "execution_count": 4,
   "id": "2ba31268-3fde-4667-a8a7-0bd0f3bd0e84",
   "metadata": {},
   "outputs": [
    {
     "name": "stdout",
     "output_type": "stream",
     "text": [
      "{'maths', 'Probability', 'Science'}\n"
     ]
    }
   ],
   "source": [
    "subjects={\"maths\",\"Science\",\"Probability\"}\n",
    "print(subjects)"
   ]
  },
  {
   "cell_type": "code",
   "execution_count": 7,
   "id": "44106acc-1463-4f47-9123-1dc9653a4931",
   "metadata": {},
   "outputs": [
    {
     "name": "stdout",
     "output_type": "stream",
     "text": [
      "6.0\n",
      "80\n",
      "(6+0j)\n"
     ]
    }
   ],
   "source": [
    "num = 6    # int\n",
    "marks = 80.5  # float\n",
    "complexValue = 9+5j   # complex\n",
    "#convert from int to float:\n",
    "floatNum = float(num) # float()\n",
    "\n",
    "#convert from float to int:\n",
    "intMarks = int(marks)\n",
    "\n",
    "#convert from int to complex:\n",
    "complexNum = complex(num)\n",
    "\n",
    "print(floatNum)\n",
    "print(intMarks)\n",
    "print(complexNum)"
   ]
  },
  {
   "cell_type": "code",
   "execution_count": 14,
   "id": "7057b87c-34b6-4661-a1bb-91cfeaad1af3",
   "metadata": {},
   "outputs": [
    {
     "name": "stdout",
     "output_type": "stream",
     "text": [
      "55.0\n",
      "67\n",
      "(6+0j)\n"
     ]
    }
   ],
   "source": [
    "num = 55\n",
    "num2 = 67.65\n",
    "floatNum = float(num)\n",
    "intNum = int(num2)\n",
    "ComplexNum = complex(num)\n",
    "print(floatNum)\n",
    "print(intNum)\n",
    "print(complexNum)"
   ]
  },
  {
   "cell_type": "markdown",
   "id": "0abb0699-3a68-42a2-9ba7-e27b4fed0bc7",
   "metadata": {},
   "source": [
    "2 *'nirmal' + 'KhARAL'"
   ]
  },
  {
   "cell_type": "code",
   "execution_count": 16,
   "id": "097cb4e1-be40-4ace-86d3-49670b1f1481",
   "metadata": {},
   "outputs": [
    {
     "data": {
      "text/plain": [
       "' nirmal  nirmal KhARAL'"
      ]
     },
     "execution_count": 16,
     "metadata": {},
     "output_type": "execute_result"
    }
   ],
   "source": [
    "2 *' nirmal ' + 'KhARAL'"
   ]
  },
  {
   "cell_type": "code",
   "execution_count": 26,
   "id": "7924ea5c-f158-4b75-8bf7-9ddcde233975",
   "metadata": {},
   "outputs": [
    {
     "data": {
      "text/plain": [
       "'s'"
      ]
     },
     "execution_count": 26,
     "metadata": {},
     "output_type": "execute_result"
    }
   ],
   "source": [
    "var='Data Types'\n",
    "var[0]\n",
    "length = len(var)\n",
    "var[length-1]"
   ]
  },
  {
   "cell_type": "code",
   "execution_count": 28,
   "id": "0ebf4c20-ed58-4283-af0a-f0cabc000cb0",
   "metadata": {},
   "outputs": [
    {
     "data": {
      "text/plain": [
       "'ta Typ'"
      ]
     },
     "execution_count": 28,
     "metadata": {},
     "output_type": "execute_result"
    }
   ],
   "source": [
    "var[2:8]"
   ]
  },
  {
   "cell_type": "code",
   "execution_count": null,
   "id": "472ae221-943a-4729-b843-c809a563cc07",
   "metadata": {},
   "outputs": [],
   "source": []
  }
 ],
 "metadata": {
  "kernelspec": {
   "display_name": "Python 3 (ipykernel)",
   "language": "python",
   "name": "python3"
  },
  "language_info": {
   "codemirror_mode": {
    "name": "ipython",
    "version": 3
   },
   "file_extension": ".py",
   "mimetype": "text/x-python",
   "name": "python",
   "nbconvert_exporter": "python",
   "pygments_lexer": "ipython3",
   "version": "3.11.5"
  }
 },
 "nbformat": 4,
 "nbformat_minor": 5
}
