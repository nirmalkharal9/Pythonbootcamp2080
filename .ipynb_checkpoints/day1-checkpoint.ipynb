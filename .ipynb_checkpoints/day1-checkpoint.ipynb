{
 "cells": [
  {
   "cell_type": "code",
   "execution_count": 2,
   "id": "abbb3d04",
   "metadata": {},
   "outputs": [
    {
     "name": "stdout",
     "output_type": "stream",
     "text": [
      "93\n",
      "48\n",
      "71\n"
     ]
    }
   ],
   "source": [
    "#VAriables\n",
    "ram,kharal,panthi=93,48,71\n",
    "print(ram)\n",
    "print(kharal)\n",
    "print(panthi)"
   ]
  },
  {
   "cell_type": "code",
   "execution_count": 15,
   "id": "8f910403",
   "metadata": {},
   "outputs": [
    {
     "name": "stdout",
     "output_type": "stream",
     "text": [
      "mango\n"
     ]
    }
   ],
   "source": [
    "#global variables\n",
    "fruit='mango'\n",
    "def fruitname():\n",
    "    print(fruit)\n",
    "fruitname()"
   ]
  },
  {
   "cell_type": "code",
   "execution_count": 18,
   "id": "e795efcb",
   "metadata": {},
   "outputs": [
    {
     "name": "stdout",
     "output_type": "stream",
     "text": [
      "GSEr\n",
      "Mid-west University\n"
     ]
    }
   ],
   "source": [
    "#Gv\n",
    "college='Mid-west University'\n",
    "def clg_name():\n",
    "    college='GSEr'\n",
    "    print(college)\n",
    "clg_name()\n",
    "print(college)"
   ]
  },
  {
   "cell_type": "code",
   "execution_count": 21,
   "id": "96d05550",
   "metadata": {},
   "outputs": [
    {
     "name": "stdout",
     "output_type": "stream",
     "text": [
      "GSer\n",
      "GSer\n",
      "GSer\n"
     ]
    },
    {
     "data": {
      "text/plain": [
       "str"
      ]
     },
     "execution_count": 21,
     "metadata": {},
     "output_type": "execute_result"
    }
   ],
   "source": [
    "#One value Multiple variable\n",
    "clg1=clg2=clg3='GSer'\n",
    "print(clg1)\n",
    "print(clg2)\n",
    "print(clg3)\n",
    "type(clg1)"
   ]
  },
  {
   "cell_type": "code",
   "execution_count": 26,
   "id": "03bad581",
   "metadata": {},
   "outputs": [
    {
     "name": "stdout",
     "output_type": "stream",
     "text": [
      "The ram owned  bugati\n",
      "Shyam owned lamborgini\n"
     ]
    }
   ],
   "source": [
    "#Unpacking tuples\n",
    "cars=[\"bugati\",\"lamborgini\",\"toyota\"]\n",
    "cars=ram,shyam,hari\n",
    "print(\"The ram owned \",ram)\n",
    "print(\"Shyam owned\", shyam)"
   ]
  },
  {
   "cell_type": "code",
   "execution_count": 34,
   "id": "2e255c62",
   "metadata": {},
   "outputs": [
    {
     "name": "stdout",
     "output_type": "stream",
     "text": [
      "Total salary of Nirmal is  <function salary at 0x0000022208F70EA0>\n"
     ]
    }
   ],
   "source": []
  },
  {
   "cell_type": "code",
   "execution_count": 39,
   "id": "313fb6a0",
   "metadata": {},
   "outputs": [
    {
     "ename": "TypeError",
     "evalue": "can only concatenate str (not \"int\") to str",
     "output_type": "error",
     "traceback": [
      "\u001b[1;31m---------------------------------------------------------------------------\u001b[0m",
      "\u001b[1;31mTypeError\u001b[0m                                 Traceback (most recent call last)",
      "Cell \u001b[1;32mIn[39], line 7\u001b[0m\n\u001b[0;32m      5\u001b[0m     salary\u001b[38;5;241m=\u001b[39msaving\u001b[38;5;241m+\u001b[39mexpenditure\n\u001b[0;32m      6\u001b[0m     \u001b[38;5;28mprint\u001b[39m(\u001b[38;5;124m\"\u001b[39m\u001b[38;5;124mTotal salary of Nirmal is \u001b[39m\u001b[38;5;124m\"\u001b[39m\u001b[38;5;241m+\u001b[39msalary)\n\u001b[1;32m----> 7\u001b[0m salary()\n",
      "Cell \u001b[1;32mIn[39], line 6\u001b[0m, in \u001b[0;36msalary\u001b[1;34m()\u001b[0m\n\u001b[0;32m      4\u001b[0m \u001b[38;5;28;01mdef\u001b[39;00m \u001b[38;5;21msalary\u001b[39m():\n\u001b[0;32m      5\u001b[0m     salary\u001b[38;5;241m=\u001b[39msaving\u001b[38;5;241m+\u001b[39mexpenditure\n\u001b[1;32m----> 6\u001b[0m     \u001b[38;5;28mprint\u001b[39m(\u001b[38;5;124m\"\u001b[39m\u001b[38;5;124mTotal salary of Nirmal is \u001b[39m\u001b[38;5;124m\"\u001b[39m\u001b[38;5;241m+\u001b[39msalary)\n",
      "\u001b[1;31mTypeError\u001b[0m: can only concatenate str (not \"int\") to str"
     ]
    }
   ],
   "source": [
    "#global variables\n",
    "saving=10000\n",
    "expenditure=5000\n",
    "def salary():\n",
    "    salary=saving+expenditure\n",
    "    print(\"Total salary of Nirmal \",salary)\n",
    "salary()"
   ]
  },
  {
   "cell_type": "code",
   "execution_count": null,
   "id": "432e4a64",
   "metadata": {},
   "outputs": [],
   "source": []
  },
  {
   "cell_type": "code",
   "execution_count": null,
   "id": "62cb8e25",
   "metadata": {},
   "outputs": [],
   "source": []
  }
 ],
 "metadata": {
  "kernelspec": {
   "display_name": "Python 3 (ipykernel)",
   "language": "python",
   "name": "python3"
  },
  "language_info": {
   "codemirror_mode": {
    "name": "ipython",
    "version": 3
   },
   "file_extension": ".py",
   "mimetype": "text/x-python",
   "name": "python",
   "nbconvert_exporter": "python",
   "pygments_lexer": "ipython3",
   "version": "3.11.5"
  }
 },
 "nbformat": 4,
 "nbformat_minor": 5
}
