{
 "cells": [
  {
   "cell_type": "code",
   "execution_count": 2,
   "id": "4e077f36",
   "metadata": {},
   "outputs": [
    {
     "name": "stdout",
     "output_type": "stream",
     "text": [
      "93\n",
      "48\n",
      "71\n"
     ]
    }
   ],
   "source": [
    "#VAriables\n",
    "ram,kharal,panthi=93,48,71\n",
    "print(ram)\n",
    "print(kharal)\n",
    "print(panthi)"
   ]
  },
  {
   "cell_type": "code",
   "execution_count": 15,
   "id": "53b7459b",
   "metadata": {},
   "outputs": [
    {
     "name": "stdout",
     "output_type": "stream",
     "text": [
      "mango\n"
     ]
    }
   ],
   "source": [
    "#global variables\n",
    "fruit='mango'\n",
    "def fruitname():\n",
    "    print(fruit)\n",
    "fruitname()"
   ]
  },
  {
   "cell_type": "code",
   "execution_count": 42,
   "id": "96372c7f",
   "metadata": {},
   "outputs": [
    {
     "name": "stdout",
     "output_type": "stream",
     "text": [
      "GSEr\n",
      "GSEr\n"
     ]
    }
   ],
   "source": [
    "#Gv\n",
    "college='Mid-west University'\n",
    "def clg_name():\n",
    "    global college\n",
    "    college='GSEr'\n",
    "    print(college)\n",
    "clg_name()\n",
    "print(college)\n"
   ]
  },
  {
   "cell_type": "code",
   "execution_count": 21,
   "id": "de55bdbe",
   "metadata": {},
   "outputs": [
    {
     "name": "stdout",
     "output_type": "stream",
     "text": [
      "GSer\n",
      "GSer\n",
      "GSer\n"
     ]
    },
    {
     "data": {
      "text/plain": [
       "str"
      ]
     },
     "execution_count": 21,
     "metadata": {},
     "output_type": "execute_result"
    }
   ],
   "source": [
    "#One value Multiple variable\n",
    "clg1=clg2=clg3='GSer'\n",
    "print(clg1)\n",
    "print(clg2)\n",
    "print(clg3)\n",
    "type(clg1)"
   ]
  },
  {
   "cell_type": "code",
   "execution_count": 26,
   "id": "34f9b118",
   "metadata": {},
   "outputs": [
    {
     "name": "stdout",
     "output_type": "stream",
     "text": [
      "The ram owned  bugati\n",
      "Shyam owned lamborgini\n"
     ]
    }
   ],
   "source": [
    "#Unpacking tuples\n",
    "cars=[\"bugati\",\"lamborgini\",\"toyota\"]\n",
    "cars=ram,shyam,hari\n",
    "print(\"The ram owned \",ram)\n",
    "print(\"Shyam owned\", shyam)"
   ]
  },
  {
   "cell_type": "code",
   "execution_count": 34,
   "id": "89db9628",
   "metadata": {},
   "outputs": [
    {
     "name": "stdout",
     "output_type": "stream",
     "text": [
      "Total salary of Nirmal is  <function salary at 0x0000022208F70EA0>\n"
     ]
    }
   ],
   "source": []
  },
  {
   "cell_type": "code",
   "execution_count": 40,
   "id": "bf670126",
   "metadata": {},
   "outputs": [
    {
     "name": "stdout",
     "output_type": "stream",
     "text": [
      "Total salary of Nirmal  15000\n"
     ]
    }
   ],
   "source": [
    "#global variables\n",
    "saving=10000\n",
    "expenditure=5000\n",
    "def salary():\n",
    "    salary=saving+expenditure\n",
    "    print(\"Total salary of Nirmal \",salary)\n",
    "salary()"
   ]
  },
  {
   "cell_type": "code",
   "execution_count": null,
   "id": "b7eb3378",
   "metadata": {},
   "outputs": [],
   "source": []
  },
  {
   "cell_type": "code",
   "execution_count": null,
   "id": "005b5c59",
   "metadata": {},
   "outputs": [],
   "source": []
  }
 ],
 "metadata": {
  "kernelspec": {
   "display_name": "Python 3 (ipykernel)",
   "language": "python",
   "name": "python3"
  },
  "language_info": {
   "codemirror_mode": {
    "name": "ipython",
    "version": 3
   },
   "file_extension": ".py",
   "mimetype": "text/x-python",
   "name": "python",
   "nbconvert_exporter": "python",
   "pygments_lexer": "ipython3",
   "version": "3.11.5"
  }
 },
 "nbformat": 4,
 "nbformat_minor": 5
}
