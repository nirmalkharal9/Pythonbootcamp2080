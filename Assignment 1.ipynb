{
 "cells": [
  {
   "cell_type": "code",
   "execution_count": 1,
   "id": "0c8205ab-5910-42be-873d-ca182c96e8b9",
   "metadata": {},
   "outputs": [
    {
     "name": "stdout",
     "output_type": "stream",
     "text": [
      "9 It is not even\n"
     ]
    }
   ],
   "source": [
    "import even\n",
    "even.check_even(9)"
   ]
  },
  {
   "cell_type": "code",
   "execution_count": 2,
   "id": "ef388422-d5d6-4334-a4cb-1d0f73274a61",
   "metadata": {},
   "outputs": [
    {
     "data": {
      "text/plain": [
       "[21, 23, 25, 27, 29]"
      ]
     },
     "execution_count": 2,
     "metadata": {},
     "output_type": "execute_result"
    }
   ],
   "source": [
    "import even\n",
    "even.evenrange(20,30)\n",
    "            "
   ]
  },
  {
   "cell_type": "code",
   "execution_count": 3,
   "id": "7f6c55b3-52b1-445c-a156-39069061c939",
   "metadata": {},
   "outputs": [
    {
     "data": {
      "text/plain": [
       "[21, 23, 25, 27, 29]"
      ]
     },
     "execution_count": 3,
     "metadata": {},
     "output_type": "execute_result"
    }
   ],
   "source": [
    "import odd\n",
    "odd.oddrange(20,30)"
   ]
  },
  {
   "cell_type": "code",
   "execution_count": 4,
   "id": "48bef689-26f1-474a-a2c3-6515e4adee40",
   "metadata": {},
   "outputs": [
    {
     "name": "stdout",
     "output_type": "stream",
     "text": [
      "This is not Even Number\n"
     ]
    }
   ],
   "source": [
    "import odd\n",
    "odd.odd_check(6)"
   ]
  },
  {
   "cell_type": "code",
   "execution_count": 3,
   "id": "1bee67c3-91d4-4ab1-a842-9169a1cb3515",
   "metadata": {},
   "outputs": [
    {
     "data": {
      "text/plain": [
       "True"
      ]
     },
     "execution_count": 3,
     "metadata": {},
     "output_type": "execute_result"
    }
   ],
   "source": [
    "import prime\n",
    "prime.checkprime(17)"
   ]
  },
  {
   "cell_type": "code",
   "execution_count": 1,
   "id": "2ddd8f78-db27-413f-9fd3-94d92c51aafc",
   "metadata": {},
   "outputs": [
    {
     "data": {
      "text/plain": [
       "[11, 13, 17, 19]"
      ]
     },
     "execution_count": 1,
     "metadata": {},
     "output_type": "execute_result"
    }
   ],
   "source": [
    "import prime\n",
    "prime.range_prime(10,20)"
   ]
  },
  {
   "cell_type": "code",
   "execution_count": 12,
   "id": "1befa5bc-26c9-464a-819b-477be50f08bd",
   "metadata": {},
   "outputs": [
    {
     "data": {
      "text/plain": [
       "120"
      ]
     },
     "execution_count": 12,
     "metadata": {},
     "output_type": "execute_result"
    }
   ],
   "source": [
    "import factorial\n",
    "factorial.factr(5)"
   ]
  },
  {
   "cell_type": "code",
   "execution_count": 3,
   "id": "7c33b65f-fc74-41f2-8867-21f10d253caf",
   "metadata": {},
   "outputs": [
    {
     "data": {
      "text/plain": [
       "11"
      ]
     },
     "execution_count": 3,
     "metadata": {},
     "output_type": "execute_result"
    }
   ],
   "source": [
    "def sum(num1,num2):\n",
    "    sum = num1+num2\n",
    "    return(sum)\n",
    "sum(5,6)"
   ]
  },
  {
   "cell_type": "code",
   "execution_count": null,
   "id": "15e91b9d-4b42-4a32-a351-216095f47c5f",
   "metadata": {},
   "outputs": [],
   "source": []
  }
 ],
 "metadata": {
  "kernelspec": {
   "display_name": "Python 3 (ipykernel)",
   "language": "python",
   "name": "python3"
  },
  "language_info": {
   "codemirror_mode": {
    "name": "ipython",
    "version": 3
   },
   "file_extension": ".py",
   "mimetype": "text/x-python",
   "name": "python",
   "nbconvert_exporter": "python",
   "pygments_lexer": "ipython3",
   "version": "3.11.5"
  }
 },
 "nbformat": 4,
 "nbformat_minor": 5
}
