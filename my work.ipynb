{
 "cells": [
  {
   "cell_type": "code",
   "execution_count": 11,
   "id": "72082ec1-7708-4138-83f9-6ce5de9042bf",
   "metadata": {},
   "outputs": [
    {
     "name": "stdin",
     "output_type": "stream",
     "text": [
      "Enter a number:  4\n"
     ]
    },
    {
     "name": "stdout",
     "output_type": "stream",
     "text": [
      "This is not an odd number\n"
     ]
    }
   ],
   "source": [
    "# Prompt the user to input a number\n",
    "num = int(input(\"Enter a number: \"))\n",
    "\n",
    "# Define a function to check if a number is odd\n",
    "def check_odd(num):\n",
    "    # Check if the number is divisible by 2 (i.e., even)\n",
    "    if num % 2 == 0:\n",
    "        print(\"This is not an odd number\")  # If even, print this message\n",
    "    else:\n",
    "        print(\"This is an odd number\")      # If odd, print this message\n",
    "# Call the check_odd function with the input number\n",
    "check_odd(num)"
   ]
  },
  {
   "cell_type": "code",
   "execution_count": null,
   "id": "a73e31b4-1914-4e58-a5ef-861778e2764f",
   "metadata": {},
   "outputs": [],
   "source": [
    "\n",
    "# Taking input from the user\n",
    "num = int(input(\"Enter a number: \"))\n",
    "def check_prime(num):\n",
    "    # Prime numbers are greater than 1\n",
    "    if num <= 1:\n",
    "        return False\n",
    "    \n",
    "    # Check for factors from 2 to the square root of the number\n",
    "    for prime in range(2, num):\n",
    "        if num % prime == 0:\n",
    "            return False\n",
    "    \n",
    "    return True\n",
    "\n",
    "# Check if the number is prime or not\n",
    "if check_prime(num):\n",
    "    print(num, \"is a prime number.\")\n",
    "else:\n",
    "    print(num, \"is not a prime number.\")\n"
   ]
  },
  {
   "cell_type": "code",
   "execution_count": 13,
   "id": "7256e336-dc75-47cc-959d-d3fa9756607c",
   "metadata": {},
   "outputs": [
    {
     "name": "stdin",
     "output_type": "stream",
     "text": [
      "Enter a number:  44\n"
     ]
    },
    {
     "name": "stdout",
     "output_type": "stream",
     "text": [
      "This is an even number\n"
     ]
    }
   ],
   "source": [
    "# Prompt the user to input a number\n",
    "num = int(input(\"Enter a number: \"))\n",
    "\n",
    "# Define a function to check if a number is odd\n",
    "def check_even(num):\n",
    "    # Check if the number is divisible by 2 (i.e., even)\n",
    "    if num % 2 == 0:\n",
    "        print(\"This is an even number\")  # If even, print this message\n",
    "    else:\n",
    "        print(\"This is not an even number\")      # If odd, print this message\n",
    "# Call the check_odd function with the input number\n",
    "check_even(num)"
   ]
  },
  {
   "cell_type": "code",
   "execution_count": 18,
   "id": "aee9a97c-5a31-4a55-a83d-8ad34cea170a",
   "metadata": {},
   "outputs": [
    {
     "name": "stdin",
     "output_type": "stream",
     "text": [
      "Enter the number 45\n"
     ]
    },
    {
     "name": "stdout",
     "output_type": "stream",
     "text": [
      "45 is not Odd Number\n"
     ]
    }
   ],
   "source": [
    "num = int(input(\"Enter the number\"))\n",
    "def check_even(num):\n",
    "    if num % 2 == 0:\n",
    "        print(num,\"is Even Number\")\n",
    "    else:\n",
    "        print(num,\"is not Odd Number\")\n",
    "check_even(num) # call the funchtion\n"
   ]
  },
  {
   "cell_type": "code",
   "execution_count": null,
   "id": "684f36d4-0eb1-4fcb-ab12-f345f1152e2a",
   "metadata": {},
   "outputs": [],
   "source": [
    "#Module\n",
    "\n"
   ]
  }
 ],
 "metadata": {
  "kernelspec": {
   "display_name": "Python 3 (ipykernel)",
   "language": "python",
   "name": "python3"
  },
  "language_info": {
   "codemirror_mode": {
    "name": "ipython",
    "version": 3
   },
   "file_extension": ".py",
   "mimetype": "text/x-python",
   "name": "python",
   "nbconvert_exporter": "python",
   "pygments_lexer": "ipython3",
   "version": "3.11.5"
  }
 },
 "nbformat": 4,
 "nbformat_minor": 5
}
