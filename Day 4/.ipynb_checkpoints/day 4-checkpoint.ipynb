{
 "cells": [
  {
   "cell_type": "markdown",
   "id": "6b8faf3c-9d53-430e-bde1-a35176888efa",
   "metadata": {},
   "source": [
    "## Today \n",
    "<P> 1. Download existing Dataset : platform-kaggle <br>\n",
    "2. perform some operations on the dataset <br>\n",
    "3. Create some visualization<br> </P>"
   ]
  },
  {
   "cell_type": "code",
   "execution_count": 2,
   "id": "3600b00f-6747-4f5d-94d6-2619b3b33a8a",
   "metadata": {},
   "outputs": [],
   "source": [
    "import numpy as np\n",
    "import pandas as pd"
   ]
  },
  {
   "cell_type": "code",
   "execution_count": 3,
   "id": "17a5fd05-bd78-4ca1-b03b-88d85fc81063",
   "metadata": {},
   "outputs": [
    {
     "data": {
      "text/plain": [
       "array([1, 2, 3])"
      ]
     },
     "execution_count": 3,
     "metadata": {},
     "output_type": "execute_result"
    }
   ],
   "source": [
    "array = np.array([1,2,3])\n",
    "array"
   ]
  },
  {
   "cell_type": "code",
   "execution_count": 6,
   "id": "620e16ce-b67e-4f01-a011-122c5fc3affd",
   "metadata": {},
   "outputs": [
    {
     "ename": "SyntaxError",
     "evalue": "closing parenthesis ']' does not match opening parenthesis '(' (2114513475.py, line 1)",
     "output_type": "error",
     "traceback": [
      "\u001b[1;36m  Cell \u001b[1;32mIn[6], line 1\u001b[1;36m\u001b[0m\n\u001b[1;33m    readataset = pd.read_csv(\"only_road_accidents_data_month2\"]\u001b[0m\n\u001b[1;37m                                                              ^\u001b[0m\n\u001b[1;31mSyntaxError\u001b[0m\u001b[1;31m:\u001b[0m closing parenthesis ']' does not match opening parenthesis '('\n"
     ]
    }
   ],
   "source": [
    "reaDataSet = pd.read_csv(\"only_road_accidents_data_month2\"]\n",
    "readDataSet"
   ]
  },
  {
   "cell_type": "code",
   "execution_count": null,
   "id": "ab86b2b2-0183-4c95-b3da-fd08a68907c8",
   "metadata": {},
   "outputs": [],
   "source": []
  }
 ],
 "metadata": {
  "kernelspec": {
   "display_name": "Python 3 (ipykernel)",
   "language": "python",
   "name": "python3"
  },
  "language_info": {
   "codemirror_mode": {
    "name": "ipython",
    "version": 3
   },
   "file_extension": ".py",
   "mimetype": "text/x-python",
   "name": "python",
   "nbconvert_exporter": "python",
   "pygments_lexer": "ipython3",
   "version": "3.11.5"
  }
 },
 "nbformat": 4,
 "nbformat_minor": 5
}
